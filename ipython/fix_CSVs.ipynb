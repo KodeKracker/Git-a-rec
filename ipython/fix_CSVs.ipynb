{
 "metadata": {
  "name": ""
 },
 "nbformat": 3,
 "nbformat_minor": 0,
 "worksheets": [
  {
   "cells": [
    {
     "cell_type": "code",
     "collapsed": false,
     "input": [
      "import numpy as np\n",
      "import pandas as pd"
     ],
     "language": "python",
     "metadata": {},
     "outputs": [],
     "prompt_number": 52
    },
    {
     "cell_type": "code",
     "collapsed": false,
     "input": [
      "repos = pd.read_csv('repos_dump_in_csv.csv', dtype={'created_at': datetime})"
     ],
     "language": "python",
     "metadata": {},
     "outputs": [],
     "prompt_number": 97
    },
    {
     "cell_type": "code",
     "collapsed": false,
     "input": [
      "repos.head()"
     ],
     "language": "python",
     "metadata": {},
     "outputs": [
      {
       "html": [
        "<div style=\"max-height:1000px;max-width:1500px;overflow:auto;\">\n",
        "<table border=\"1\" class=\"dataframe\">\n",
        "  <thead>\n",
        "    <tr style=\"text-align: right;\">\n",
        "      <th></th>\n",
        "      <th>fork</th>\n",
        "      <th>watchers</th>\n",
        "      <th>language</th>\n",
        "      <th>created_at</th>\n",
        "      <th>updated_at</th>\n",
        "      <th>private</th>\n",
        "      <th>full_name</th>\n",
        "      <th>owner.login</th>\n",
        "      <th>owner.id</th>\n",
        "      <th>organization.login</th>\n",
        "      <th>organization.id</th>\n",
        "      <th>forks</th>\n",
        "      <th>id</th>\n",
        "    </tr>\n",
        "  </thead>\n",
        "  <tbody>\n",
        "    <tr>\n",
        "      <th>0</th>\n",
        "      <td> False</td>\n",
        "      <td> 1</td>\n",
        "      <td>  Ruby</td>\n",
        "      <td> 2012-07-05T21:09:14Z</td>\n",
        "      <td> 2012-07-12T11:35:33Z</td>\n",
        "      <td> False</td>\n",
        "      <td>        mmacedo/myapp</td>\n",
        "      <td> mmacedo</td>\n",
        "      <td>  323764</td>\n",
        "      <td>     NaN</td>\n",
        "      <td>     NaN</td>\n",
        "      <td> 1</td>\n",
        "      <td> 4915307</td>\n",
        "    </tr>\n",
        "    <tr>\n",
        "      <th>1</th>\n",
        "      <td> False</td>\n",
        "      <td> 4</td>\n",
        "      <td>  Java</td>\n",
        "      <td> 2012-04-12T11:04:29Z</td>\n",
        "      <td> 2012-07-12T11:40:57Z</td>\n",
        "      <td> False</td>\n",
        "      <td>         trifork/dgws</td>\n",
        "      <td> trifork</td>\n",
        "      <td>  321052</td>\n",
        "      <td> trifork</td>\n",
        "      <td>  321052</td>\n",
        "      <td> 3</td>\n",
        "      <td> 4003806</td>\n",
        "    </tr>\n",
        "    <tr>\n",
        "      <th>2</th>\n",
        "      <td> False</td>\n",
        "      <td> 1</td>\n",
        "      <td>  Java</td>\n",
        "      <td> 2012-06-27T07:01:42Z</td>\n",
        "      <td> 2012-07-12T11:31:32Z</td>\n",
        "      <td> False</td>\n",
        "      <td>     fzoli/MillServer</td>\n",
        "      <td>   fzoli</td>\n",
        "      <td> 1408644</td>\n",
        "      <td>     NaN</td>\n",
        "      <td>     NaN</td>\n",
        "      <td> 1</td>\n",
        "      <td> 4805282</td>\n",
        "    </tr>\n",
        "    <tr>\n",
        "      <th>3</th>\n",
        "      <td> False</td>\n",
        "      <td> 2</td>\n",
        "      <td>   NaN</td>\n",
        "      <td> 2012-02-23T21:46:20Z</td>\n",
        "      <td> 2012-07-12T11:31:33Z</td>\n",
        "      <td> False</td>\n",
        "      <td> gkno/gkno.github.com</td>\n",
        "      <td>    gkno</td>\n",
        "      <td> 1438088</td>\n",
        "      <td>    gkno</td>\n",
        "      <td> 1438088</td>\n",
        "      <td> 2</td>\n",
        "      <td> 3530198</td>\n",
        "    </tr>\n",
        "    <tr>\n",
        "      <th>4</th>\n",
        "      <td> False</td>\n",
        "      <td> 1</td>\n",
        "      <td> Shell</td>\n",
        "      <td> 2012-04-26T01:29:29Z</td>\n",
        "      <td> 2012-07-12T11:31:30Z</td>\n",
        "      <td> False</td>\n",
        "      <td>     r1chelt/dotfiles</td>\n",
        "      <td> r1chelt</td>\n",
        "      <td>  491988</td>\n",
        "      <td>     NaN</td>\n",
        "      <td>     NaN</td>\n",
        "      <td> 1</td>\n",
        "      <td> 4143166</td>\n",
        "    </tr>\n",
        "  </tbody>\n",
        "</table>\n",
        "<p>5 rows \u00d7 13 columns</p>\n",
        "</div>"
       ],
       "metadata": {},
       "output_type": "pyout",
       "prompt_number": 98,
       "text": [
        "    fork watchers language            created_at            updated_at  \\\n",
        "0  False        1     Ruby  2012-07-05T21:09:14Z  2012-07-12T11:35:33Z   \n",
        "1  False        4     Java  2012-04-12T11:04:29Z  2012-07-12T11:40:57Z   \n",
        "2  False        1     Java  2012-06-27T07:01:42Z  2012-07-12T11:31:32Z   \n",
        "3  False        2      NaN  2012-02-23T21:46:20Z  2012-07-12T11:31:33Z   \n",
        "4  False        1    Shell  2012-04-26T01:29:29Z  2012-07-12T11:31:30Z   \n",
        "\n",
        "  private             full_name owner.login owner.id organization.login  \\\n",
        "0   False         mmacedo/myapp     mmacedo   323764                NaN   \n",
        "1   False          trifork/dgws     trifork   321052            trifork   \n",
        "2   False      fzoli/MillServer       fzoli  1408644                NaN   \n",
        "3   False  gkno/gkno.github.com        gkno  1438088               gkno   \n",
        "4   False      r1chelt/dotfiles     r1chelt   491988                NaN   \n",
        "\n",
        "  organization.id forks       id  \n",
        "0             NaN     1  4915307  \n",
        "1          321052     3  4003806  \n",
        "2             NaN     1  4805282  \n",
        "3         1438088     2  3530198  \n",
        "4             NaN     1  4143166  \n",
        "\n",
        "[5 rows x 13 columns]"
       ]
      }
     ],
     "prompt_number": 98
    },
    {
     "cell_type": "markdown",
     "metadata": {},
     "source": []
    },
    {
     "cell_type": "code",
     "collapsed": false,
     "input": [
      "nans = repos['created_at'] == \"\""
     ],
     "language": "python",
     "metadata": {},
     "outputs": [],
     "prompt_number": 85
    },
    {
     "cell_type": "code",
     "collapsed": false,
     "input": [
      "np.any(nans)"
     ],
     "language": "python",
     "metadata": {},
     "outputs": [
      {
       "metadata": {},
       "output_type": "pyout",
       "prompt_number": 87,
       "text": [
        "False"
       ]
      }
     ],
     "prompt_number": 87
    },
    {
     "cell_type": "code",
     "collapsed": false,
     "input": [
      "temp = repos.head()\n",
      "temp['year'] = pd.DatetimeIndex(pd.to_datetime(temp['created_at'])).year\n",
      "pd.to_datetime(temp['created_at'])"
     ],
     "language": "python",
     "metadata": {},
     "outputs": [
      {
       "metadata": {},
       "output_type": "pyout",
       "prompt_number": 100,
       "text": [
        "0   2012-07-05 21:09:14\n",
        "1   2012-04-12 11:04:29\n",
        "2   2012-06-27 07:01:42\n",
        "3   2012-02-23 21:46:20\n",
        "4   2012-04-26 01:29:29\n",
        "Name: created_at, dtype: datetime64[ns]"
       ]
      }
     ],
     "prompt_number": 100
    },
    {
     "cell_type": "code",
     "collapsed": false,
     "input": [
      "repos[repos['created_at'] == 'created_at']"
     ],
     "language": "python",
     "metadata": {},
     "outputs": [
      {
       "html": [
        "<div style=\"max-height:1000px;max-width:1500px;overflow:auto;\">\n",
        "<table border=\"1\" class=\"dataframe\">\n",
        "  <thead>\n",
        "    <tr style=\"text-align: right;\">\n",
        "      <th></th>\n",
        "      <th>fork</th>\n",
        "      <th>watchers</th>\n",
        "      <th>language</th>\n",
        "      <th>created_at</th>\n",
        "      <th>updated_at</th>\n",
        "      <th>private</th>\n",
        "      <th>full_name</th>\n",
        "      <th>owner.login</th>\n",
        "      <th>owner.id</th>\n",
        "      <th>organization.login</th>\n",
        "      <th>organization.id</th>\n",
        "      <th>forks</th>\n",
        "      <th>id</th>\n",
        "      <th>year</th>\n",
        "    </tr>\n",
        "  </thead>\n",
        "  <tbody>\n",
        "    <tr>\n",
        "      <th>2000000</th>\n",
        "      <td> fork</td>\n",
        "      <td> watchers</td>\n",
        "      <td> language</td>\n",
        "      <td> created_at</td>\n",
        "      <td> updated_at</td>\n",
        "      <td> private</td>\n",
        "      <td> full_name</td>\n",
        "      <td> owner.login</td>\n",
        "      <td> owner.id</td>\n",
        "      <td> organization.login</td>\n",
        "      <td> organization.id</td>\n",
        "      <td> forks</td>\n",
        "      <td> id</td>\n",
        "      <td>NaT</td>\n",
        "    </tr>\n",
        "    <tr>\n",
        "      <th>3000001</th>\n",
        "      <td> fork</td>\n",
        "      <td> watchers</td>\n",
        "      <td> language</td>\n",
        "      <td> created_at</td>\n",
        "      <td> updated_at</td>\n",
        "      <td> private</td>\n",
        "      <td> full_name</td>\n",
        "      <td> owner.login</td>\n",
        "      <td> owner.id</td>\n",
        "      <td> organization.login</td>\n",
        "      <td> organization.id</td>\n",
        "      <td> forks</td>\n",
        "      <td> id</td>\n",
        "      <td>NaT</td>\n",
        "    </tr>\n",
        "    <tr>\n",
        "      <th>4000002</th>\n",
        "      <td> fork</td>\n",
        "      <td> watchers</td>\n",
        "      <td> language</td>\n",
        "      <td> created_at</td>\n",
        "      <td> updated_at</td>\n",
        "      <td> private</td>\n",
        "      <td> full_name</td>\n",
        "      <td> owner.login</td>\n",
        "      <td> owner.id</td>\n",
        "      <td> organization.login</td>\n",
        "      <td> organization.id</td>\n",
        "      <td> forks</td>\n",
        "      <td> id</td>\n",
        "      <td>NaT</td>\n",
        "    </tr>\n",
        "  </tbody>\n",
        "</table>\n",
        "<p>3 rows \u00d7 14 columns</p>\n",
        "</div>"
       ],
       "metadata": {},
       "output_type": "pyout",
       "prompt_number": 207,
       "text": [
        "         fork  watchers  language  created_at  updated_at  private  full_name  \\\n",
        "2000000  fork  watchers  language  created_at  updated_at  private  full_name   \n",
        "3000001  fork  watchers  language  created_at  updated_at  private  full_name   \n",
        "4000002  fork  watchers  language  created_at  updated_at  private  full_name   \n",
        "\n",
        "         owner.login  owner.id  organization.login  organization.id  forks  \\\n",
        "2000000  owner.login  owner.id  organization.login  organization.id  forks   \n",
        "3000001  owner.login  owner.id  organization.login  organization.id  forks   \n",
        "4000002  owner.login  owner.id  organization.login  organization.id  forks   \n",
        "\n",
        "         id year  \n",
        "2000000  id  NaT  \n",
        "3000001  id  NaT  \n",
        "4000002  id  NaT  \n",
        "\n",
        "[3 rows x 14 columns]"
       ]
      }
     ],
     "prompt_number": 207
    },
    {
     "cell_type": "code",
     "collapsed": false,
     "input": [
      "repos = repos.drop(repos.index[[2000000, 3000001, 4000002]])"
     ],
     "language": "python",
     "metadata": {},
     "outputs": [],
     "prompt_number": 212
    },
    {
     "cell_type": "code",
     "collapsed": false,
     "input": [
      "len(repos)"
     ],
     "language": "python",
     "metadata": {},
     "outputs": [
      {
       "metadata": {},
       "output_type": "pyout",
       "prompt_number": 213,
       "text": [
        "4083886"
       ]
      }
     ],
     "prompt_number": 213
    },
    {
     "cell_type": "code",
     "collapsed": false,
     "input": [
      "stamp = pd.to_datetime(repos['created_at'])\n",
      "repos['year'] = pd.DatetimeIndex(stamp).year"
     ],
     "language": "python",
     "metadata": {},
     "outputs": [],
     "prompt_number": 214
    },
    {
     "cell_type": "code",
     "collapsed": false,
     "input": [
      "repos.to_csv('final_repos.csv')"
     ],
     "language": "python",
     "metadata": {},
     "outputs": [],
     "prompt_number": 216
    }
   ],
   "metadata": {}
  }
 ]
}